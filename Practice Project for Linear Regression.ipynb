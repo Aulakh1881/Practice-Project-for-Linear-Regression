{
 "cells": [
  {
   "cell_type": "code",
   "execution_count": 93,
   "id": "c3e5404f-d795-4d32-b811-1665faf0403a",
   "metadata": {},
   "outputs": [
    {
     "name": "stdout",
     "output_type": "stream",
     "text": [
      "Mean squared error: 1467873979.53\n",
      "MAE : 30531.95\n",
      "RMSE : 38312.84\n",
      "Coefficient of determination: 0.90\n"
     ]
    }
   ],
   "source": [
    "# Simple Practice training model - Linear Regression\n",
    "from sklearn.linear_model import LinearRegression\n",
    "import numpy as np\n",
    "import pandas as pd\n",
    "\n",
    "from matplotlib import pyplot as plt\n",
    "import seaborn as sns\n",
    "%matplotlib inline\n",
    "\n",
    "from sklearn.model_selection import train_test_split\n",
    "from sklearn.metrics import mean_squared_error, r2_score, mean_absolute_error\n",
    "\n",
    "# Used to perform the pipeline\n",
    "from sklearn.compose import ColumnTransformer\n",
    "from sklearn.pipeline import Pipeline\n",
    "from sklearn.impute import SimpleImputer\n",
    "from sklearn.preprocessing import StandardScaler, OneHotEncoder\n",
    "\n",
    "path = \"../Programs/homes.csv\"\n",
    "housing_df = pd.read_csv(path)\n",
    "housing_df = housing_df.loc[(housing_df.TotalLandValue > 50000) & (housing_df.LastSalePrice >= 90000) & (housing_df.TaxableValue > 50000)] # Setting restrictions to retrieve certain data\n",
    "\n",
    "columns_to_check = [\"Acreage\", \"TotalHeatedAreaSqFt\", \"TotalBedrooms\", \"TotalBathrooms\", \"TotalLandValue\", \"TotalBuildingValue\", \"LastSalePrice\", \"TotalGrossAreaSqFt\"]\n",
    "housing_df.dropna(subset=columns_to_check, inplace=True) # Drop any rows with N/A values in columns \n",
    "\n",
    "x = housing_df[['Acreage','TotalHeatedAreaSqFt', 'TotalBedrooms', 'TotalBathrooms', 'TotalLandValue', 'TotalBuildingValue', 'Neighborhood', 'TotalGrossAreaSqFt']] # Features in x \n",
    "y = housing_df['AssessedValue'] # Result in y\n",
    "\n",
    "#Split data into seperate pipelines\n",
    "#Numeric pipeline\n",
    "num_features = ['Acreage', 'TotalHeatedAreaSqFt', 'TotalBedrooms', 'TotalBathrooms', 'TotalLandValue', 'TotalBuildingValue', 'TotalGrossAreaSqFt']\n",
    "num_transformer = Pipeline(steps=[('imputer', SimpleImputer(strategy='median'))])\n",
    "\n",
    "#Categorical pipeline\n",
    "cat_features = ['Neighborhood']\n",
    "cat_transformer = Pipeline(steps=[('imputer', SimpleImputer(strategy='constant', fill_value='missing')),('onehot', OneHotEncoder(handle_unknown='ignore'))])\n",
    "\n",
    "preprocessor = ColumnTransformer(transformers=[('num', num_transformer, num_features),('cat', cat_transformer, cat_features)])\n",
    "\n",
    "housing_model = Pipeline(steps=[('preprocessor', preprocessor),('classifier', LinearRegression(fit_intercept=True))])\n",
    "\n",
    "# Train data with 65% of it in training\n",
    "xtrain, xtest, ytrain, ytest = train_test_split(x, y, random_state=1957, train_size=0.65)\n",
    "\n",
    "housing_model.fit(xtrain, ytrain)\n",
    "\n",
    "y_model = housing_model.predict(xtest)\n",
    "\n",
    "# Calculate MSE, MAE, RMSE, and Coefficent of Determination\n",
    "print('Mean squared error: %.2f'% mean_squared_error(ytest, y_model))\n",
    "print('MAE : %.2F'% mean_absolute_error(ytest, y_model))\n",
    "print('RMSE : %.2f'% np.sqrt(mean_squared_error(ytest, y_model)))\n",
    "# Determines how accurate the predictions of the training model are\n",
    "print('Coefficient of determination: %.2f'% r2_score(ytest, y_model))"
   ]
  }
 ],
 "metadata": {
  "kernelspec": {
   "display_name": "Python 3 (ipykernel)",
   "language": "python",
   "name": "python3"
  },
  "language_info": {
   "codemirror_mode": {
    "name": "ipython",
    "version": 3
   },
   "file_extension": ".py",
   "mimetype": "text/x-python",
   "name": "python",
   "nbconvert_exporter": "python",
   "pygments_lexer": "ipython3",
   "version": "3.12.7"
  }
 },
 "nbformat": 4,
 "nbformat_minor": 5
}
